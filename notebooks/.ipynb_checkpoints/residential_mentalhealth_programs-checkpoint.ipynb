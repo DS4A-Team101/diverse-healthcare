{
 "cells": [
  {
   "cell_type": "code",
   "execution_count": 1,
   "id": "a4da96db",
   "metadata": {},
   "outputs": [
    {
     "name": "stdout",
     "output_type": "stream",
     "text": [
      "may-2021-certified-and-approved-residential-mental-health-programs.csv\r\n",
      "residential_mentalhealth_programs.ipynb\r\n"
     ]
    }
   ],
   "source": [
    "!ls"
   ]
  },
  {
   "cell_type": "code",
   "execution_count": 2,
   "id": "27d4444e",
   "metadata": {},
   "outputs": [
    {
     "name": "stdout",
     "output_type": "stream",
     "text": [
      "/home/jovyan/DS4A/cecilia/residential_mentalhealth_programs\r\n"
     ]
    }
   ],
   "source": [
    "!pwd"
   ]
  },
  {
   "cell_type": "code",
   "execution_count": 3,
   "id": "2af1a358",
   "metadata": {},
   "outputs": [],
   "source": [
    "import pandas as pd"
   ]
  },
  {
   "cell_type": "code",
   "execution_count": 4,
   "id": "df920e4b",
   "metadata": {
    "scrolled": true
   },
   "outputs": [
    {
     "data": {
      "text/html": [
       "<div>\n",
       "<style scoped>\n",
       "    .dataframe tbody tr th:only-of-type {\n",
       "        vertical-align: middle;\n",
       "    }\n",
       "\n",
       "    .dataframe tbody tr th {\n",
       "        vertical-align: top;\n",
       "    }\n",
       "\n",
       "    .dataframe thead th {\n",
       "        text-align: right;\n",
       "    }\n",
       "</style>\n",
       "<table border=\"1\" class=\"dataframe\">\n",
       "  <thead>\n",
       "    <tr style=\"text-align: right;\">\n",
       "      <th></th>\n",
       "      <th>TYPE</th>\n",
       "      <th>LICENSEE</th>\n",
       "      <th>PROGRAM NAME</th>\n",
       "      <th>TYPE OF APPLICATION</th>\n",
       "      <th>LICENSING \\nDEPARTMENT</th>\n",
       "      <th>BEDS</th>\n",
       "      <th>COUNTY</th>\n",
       "      <th>FACILITY ADDRESS</th>\n",
       "      <th>CITY</th>\n",
       "      <th>ZIP CODE</th>\n",
       "      <th>CERTIFICATE NUMBER</th>\n",
       "    </tr>\n",
       "  </thead>\n",
       "  <tbody>\n",
       "    <tr>\n",
       "      <th>0</th>\n",
       "      <td>STRTP</td>\n",
       "      <td>4 Kids 2 Kids</td>\n",
       "      <td>4 Kids 2 Kids-Safe House</td>\n",
       "      <td>Approved</td>\n",
       "      <td>CDSS</td>\n",
       "      <td>6</td>\n",
       "      <td>Santa Barbara</td>\n",
       "      <td>NaN</td>\n",
       "      <td>Carpinteria</td>\n",
       "      <td>93013</td>\n",
       "      <td>MH/42/01/19</td>\n",
       "    </tr>\n",
       "    <tr>\n",
       "      <th>1</th>\n",
       "      <td>STRTP</td>\n",
       "      <td>Aspiranet</td>\n",
       "      <td>ARS-Berkeley</td>\n",
       "      <td>Approved</td>\n",
       "      <td>CDSS</td>\n",
       "      <td>6</td>\n",
       "      <td>Stanislaus</td>\n",
       "      <td>NaN</td>\n",
       "      <td>Turlock</td>\n",
       "      <td>95380</td>\n",
       "      <td>MH/50/1/19</td>\n",
       "    </tr>\n",
       "    <tr>\n",
       "      <th>2</th>\n",
       "      <td>STRTP</td>\n",
       "      <td>Aspiranet</td>\n",
       "      <td>ARS-Campus</td>\n",
       "      <td>Approved</td>\n",
       "      <td>CDSS</td>\n",
       "      <td>34</td>\n",
       "      <td>Stanislaus</td>\n",
       "      <td>NaN</td>\n",
       "      <td>Turlock</td>\n",
       "      <td>95380</td>\n",
       "      <td>MH/50/04/19</td>\n",
       "    </tr>\n",
       "    <tr>\n",
       "      <th>3</th>\n",
       "      <td>STRTP</td>\n",
       "      <td>Aspiranet</td>\n",
       "      <td>ARS-Linwood</td>\n",
       "      <td>Approved</td>\n",
       "      <td>CDSS</td>\n",
       "      <td>6</td>\n",
       "      <td>Stanislaus</td>\n",
       "      <td>NaN</td>\n",
       "      <td>Turlock</td>\n",
       "      <td>95380</td>\n",
       "      <td>MH/50/3/19</td>\n",
       "    </tr>\n",
       "    <tr>\n",
       "      <th>4</th>\n",
       "      <td>STRTP</td>\n",
       "      <td>Aspiranet</td>\n",
       "      <td>ARS-Tuolumne</td>\n",
       "      <td>Approved</td>\n",
       "      <td>CDSS</td>\n",
       "      <td>6</td>\n",
       "      <td>Stanislaus</td>\n",
       "      <td>NaN</td>\n",
       "      <td>Turlock</td>\n",
       "      <td>95380</td>\n",
       "      <td>MH/50/2/19</td>\n",
       "    </tr>\n",
       "  </tbody>\n",
       "</table>\n",
       "</div>"
      ],
      "text/plain": [
       "    TYPE       LICENSEE              PROGRAM NAME TYPE OF APPLICATION  \\\n",
       "0  STRTP  4 Kids 2 Kids  4 Kids 2 Kids-Safe House            Approved   \n",
       "1  STRTP      Aspiranet              ARS-Berkeley            Approved   \n",
       "2  STRTP      Aspiranet                ARS-Campus            Approved   \n",
       "3  STRTP      Aspiranet               ARS-Linwood            Approved   \n",
       "4  STRTP      Aspiranet              ARS-Tuolumne            Approved   \n",
       "\n",
       "  LICENSING \\nDEPARTMENT  BEDS         COUNTY FACILITY ADDRESS         CITY  \\\n",
       "0                   CDSS     6  Santa Barbara              NaN  Carpinteria   \n",
       "1                   CDSS     6     Stanislaus              NaN      Turlock   \n",
       "2                   CDSS    34     Stanislaus              NaN      Turlock   \n",
       "3                   CDSS     6     Stanislaus              NaN      Turlock   \n",
       "4                   CDSS     6     Stanislaus              NaN      Turlock   \n",
       "\n",
       "   ZIP CODE CERTIFICATE NUMBER  \n",
       "0     93013        MH/42/01/19  \n",
       "1     95380         MH/50/1/19  \n",
       "2     95380        MH/50/04/19  \n",
       "3     95380         MH/50/3/19  \n",
       "4     95380         MH/50/2/19  "
      ]
     },
     "execution_count": 4,
     "metadata": {},
     "output_type": "execute_result"
    }
   ],
   "source": [
    "df_lic_mf_fac = pd.read_csv(\"home/jovyan/diverse-healthcare/data/may-2021-certified-and-approved-residential-mental-health-programs.csv\")\n",
    "df_lic_mf_fac.head()"
   ]
  }
 ],
 "metadata": {
  "kernelspec": {
   "display_name": "Python 3",
   "language": "python",
   "name": "python3"
  },
  "language_info": {
   "codemirror_mode": {
    "name": "ipython",
    "version": 3
   },
   "file_extension": ".py",
   "mimetype": "text/x-python",
   "name": "python",
   "nbconvert_exporter": "python",
   "pygments_lexer": "ipython3",
   "version": "3.8.8"
  }
 },
 "nbformat": 4,
 "nbformat_minor": 5
}
