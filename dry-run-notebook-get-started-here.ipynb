{
 "cells": [
  {
   "cell_type": "code",
   "execution_count": 2,
   "id": "ee65eff7",
   "metadata": {},
   "outputs": [
    {
     "name": "stdout",
     "output_type": "stream",
     "text": [
      "physicians-and-surgeons-by-race-ethnicity-and-practice-location-.csv\r\n",
      "Untitled.ipynb\r\n"
     ]
    }
   ],
   "source": [
    "!ls"
   ]
  },
  {
   "cell_type": "code",
   "execution_count": 2,
   "id": "cd09fb20",
   "metadata": {},
   "outputs": [],
   "source": [
    "import pandas as pd\n",
    "dataf = pd.read_csv(\"physicians-and-surgeons-by-race-ethnicity-and-practice-location-.csv\")"
   ]
  },
  {
   "cell_type": "code",
   "execution_count": 3,
   "id": "4c1082aa",
   "metadata": {},
   "outputs": [
    {
     "data": {
      "text/plain": [
       "pandas.core.frame.DataFrame"
      ]
     },
     "execution_count": 3,
     "metadata": {},
     "output_type": "execute_result"
    }
   ],
   "source": [
    "type(dataf)"
   ]
  },
  {
   "cell_type": "code",
   "execution_count": 4,
   "id": "0c3b9c1e",
   "metadata": {},
   "outputs": [
    {
     "data": {
      "text/html": [
       "<div>\n",
       "<style scoped>\n",
       "    .dataframe tbody tr th:only-of-type {\n",
       "        vertical-align: middle;\n",
       "    }\n",
       "\n",
       "    .dataframe tbody tr th {\n",
       "        vertical-align: top;\n",
       "    }\n",
       "\n",
       "    .dataframe thead th {\n",
       "        text-align: right;\n",
       "    }\n",
       "</style>\n",
       "<table border=\"1\" class=\"dataframe\">\n",
       "  <thead>\n",
       "    <tr style=\"text-align: right;\">\n",
       "      <th></th>\n",
       "      <th>Month</th>\n",
       "      <th>Year</th>\n",
       "      <th>Primary Practice County</th>\n",
       "      <th>Race/Ethnicity</th>\n",
       "      <th>Count of Licensees</th>\n",
       "    </tr>\n",
       "  </thead>\n",
       "  <tbody>\n",
       "    <tr>\n",
       "      <th>0</th>\n",
       "      <td>March</td>\n",
       "      <td>2016</td>\n",
       "      <td>Alameda</td>\n",
       "      <td>African-American/Black/African</td>\n",
       "      <td>148</td>\n",
       "    </tr>\n",
       "    <tr>\n",
       "      <th>1</th>\n",
       "      <td>March</td>\n",
       "      <td>2016</td>\n",
       "      <td>Alameda</td>\n",
       "      <td>American Indian/ Native America</td>\n",
       "      <td>6</td>\n",
       "    </tr>\n",
       "    <tr>\n",
       "      <th>2</th>\n",
       "      <td>March</td>\n",
       "      <td>2016</td>\n",
       "      <td>Alameda</td>\n",
       "      <td>Asian - Cambodian</td>\n",
       "      <td>1</td>\n",
       "    </tr>\n",
       "    <tr>\n",
       "      <th>3</th>\n",
       "      <td>March</td>\n",
       "      <td>2016</td>\n",
       "      <td>Alameda</td>\n",
       "      <td>Asian - Chinese</td>\n",
       "      <td>284</td>\n",
       "    </tr>\n",
       "    <tr>\n",
       "      <th>4</th>\n",
       "      <td>March</td>\n",
       "      <td>2016</td>\n",
       "      <td>Alameda</td>\n",
       "      <td>Asian - Indian</td>\n",
       "      <td>273</td>\n",
       "    </tr>\n",
       "  </tbody>\n",
       "</table>\n",
       "</div>"
      ],
      "text/plain": [
       "   Month  Year Primary Practice County                   Race/Ethnicity  \\\n",
       "0  March  2016                 Alameda   African-American/Black/African   \n",
       "1  March  2016                 Alameda  American Indian/ Native America   \n",
       "2  March  2016                 Alameda                Asian - Cambodian   \n",
       "3  March  2016                 Alameda                  Asian - Chinese   \n",
       "4  March  2016                 Alameda                   Asian - Indian   \n",
       "\n",
       "   Count of Licensees  \n",
       "0                 148  \n",
       "1                   6  \n",
       "2                   1  \n",
       "3                 284  \n",
       "4                 273  "
      ]
     },
     "execution_count": 4,
     "metadata": {},
     "output_type": "execute_result"
    }
   ],
   "source": [
    "dataf.head()"
   ]
  },
  {
   "cell_type": "code",
   "execution_count": 5,
   "id": "a211146d",
   "metadata": {},
   "outputs": [
    {
     "data": {
      "text/plain": [
       "892"
      ]
     },
     "execution_count": 5,
     "metadata": {},
     "output_type": "execute_result"
    }
   ],
   "source": [
    "len(dataf)"
   ]
  },
  {
   "cell_type": "code",
   "execution_count": 6,
   "id": "2cebea75",
   "metadata": {},
   "outputs": [
    {
     "data": {
      "text/plain": [
       "0        African-American/Black/African\n",
       "1       American Indian/ Native America\n",
       "2                     Asian - Cambodian\n",
       "3                       Asian - Chinese\n",
       "4                        Asian - Indian\n",
       "                     ...               \n",
       "887     Caucasian/White/European/Middle\n",
       "888                    Decline To State\n",
       "889    Latino/Hispanic - South American\n",
       "890          Native Hawaiian - Filipino\n",
       "891                               Other\n",
       "Name: Race/Ethnicity, Length: 892, dtype: object"
      ]
     },
     "execution_count": 6,
     "metadata": {},
     "output_type": "execute_result"
    }
   ],
   "source": [
    "dataf[\"Race/Ethnicity\"]"
   ]
  },
  {
   "cell_type": "code",
   "execution_count": 7,
   "id": "d03c81ae",
   "metadata": {
    "scrolled": true
   },
   "outputs": [
    {
     "data": {
      "text/plain": [
       "Month                      892\n",
       "Year                       892\n",
       "Primary Practice County    892\n",
       "Race/Ethnicity             892\n",
       "Count of Licensees         892\n",
       "dtype: int64"
      ]
     },
     "execution_count": 7,
     "metadata": {},
     "output_type": "execute_result"
    }
   ],
   "source": [
    "dataf.count()"
   ]
  },
  {
   "cell_type": "code",
   "execution_count": 8,
   "id": "4ac253bb",
   "metadata": {
    "scrolled": true
   },
   "outputs": [
    {
     "data": {
      "text/html": [
       "<div>\n",
       "<style scoped>\n",
       "    .dataframe tbody tr th:only-of-type {\n",
       "        vertical-align: middle;\n",
       "    }\n",
       "\n",
       "    .dataframe tbody tr th {\n",
       "        vertical-align: top;\n",
       "    }\n",
       "\n",
       "    .dataframe thead th {\n",
       "        text-align: right;\n",
       "    }\n",
       "</style>\n",
       "<table border=\"1\" class=\"dataframe\">\n",
       "  <thead>\n",
       "    <tr style=\"text-align: right;\">\n",
       "      <th></th>\n",
       "      <th>Year</th>\n",
       "      <th>Count of Licensees</th>\n",
       "    </tr>\n",
       "  </thead>\n",
       "  <tbody>\n",
       "    <tr>\n",
       "      <th>count</th>\n",
       "      <td>892.0</td>\n",
       "      <td>892.000000</td>\n",
       "    </tr>\n",
       "    <tr>\n",
       "      <th>mean</th>\n",
       "      <td>2016.0</td>\n",
       "      <td>56.280269</td>\n",
       "    </tr>\n",
       "    <tr>\n",
       "      <th>std</th>\n",
       "      <td>0.0</td>\n",
       "      <td>311.924848</td>\n",
       "    </tr>\n",
       "    <tr>\n",
       "      <th>min</th>\n",
       "      <td>2016.0</td>\n",
       "      <td>1.000000</td>\n",
       "    </tr>\n",
       "    <tr>\n",
       "      <th>25%</th>\n",
       "      <td>2016.0</td>\n",
       "      <td>2.000000</td>\n",
       "    </tr>\n",
       "    <tr>\n",
       "      <th>50%</th>\n",
       "      <td>2016.0</td>\n",
       "      <td>5.000000</td>\n",
       "    </tr>\n",
       "    <tr>\n",
       "      <th>75%</th>\n",
       "      <td>2016.0</td>\n",
       "      <td>20.000000</td>\n",
       "    </tr>\n",
       "    <tr>\n",
       "      <th>max</th>\n",
       "      <td>2016.0</td>\n",
       "      <td>7404.000000</td>\n",
       "    </tr>\n",
       "  </tbody>\n",
       "</table>\n",
       "</div>"
      ],
      "text/plain": [
       "         Year  Count of Licensees\n",
       "count   892.0          892.000000\n",
       "mean   2016.0           56.280269\n",
       "std       0.0          311.924848\n",
       "min    2016.0            1.000000\n",
       "25%    2016.0            2.000000\n",
       "50%    2016.0            5.000000\n",
       "75%    2016.0           20.000000\n",
       "max    2016.0         7404.000000"
      ]
     },
     "execution_count": 8,
     "metadata": {},
     "output_type": "execute_result"
    }
   ],
   "source": [
    "dataf.describe()"
   ]
  },
  {
   "cell_type": "code",
   "execution_count": 10,
   "id": "622a7fcb",
   "metadata": {},
   "outputs": [
    {
     "data": {
      "text/plain": [
       "(892, 5)"
      ]
     },
     "execution_count": 10,
     "metadata": {},
     "output_type": "execute_result"
    }
   ],
   "source": [
    "dataf.shape"
   ]
  },
  {
   "cell_type": "markdown",
   "id": "bae1322c",
   "metadata": {},
   "source": [
    "Notes: Don't necesarily need to set index; you can just point to the column to group by"
   ]
  },
  {
   "cell_type": "code",
   "execution_count": 12,
   "id": "9063a54d",
   "metadata": {},
   "outputs": [],
   "source": [
    "dataf_group=dataf.groupby([\"Primary Practice County\"])"
   ]
  },
  {
   "cell_type": "code",
   "execution_count": 13,
   "id": "e535bc2b",
   "metadata": {},
   "outputs": [
    {
     "data": {
      "text/plain": [
       "<pandas.core.groupby.generic.DataFrameGroupBy object at 0x7fc71cde1730>"
      ]
     },
     "execution_count": 13,
     "metadata": {},
     "output_type": "execute_result"
    }
   ],
   "source": [
    "dataf_group"
   ]
  },
  {
   "cell_type": "code",
   "execution_count": 14,
   "id": "6fab8b95",
   "metadata": {},
   "outputs": [
    {
     "data": {
      "text/plain": [
       "pandas.core.groupby.generic.DataFrameGroupBy"
      ]
     },
     "execution_count": 14,
     "metadata": {},
     "output_type": "execute_result"
    }
   ],
   "source": [
    "type(dataf_group)"
   ]
  },
  {
   "cell_type": "code",
   "execution_count": 15,
   "id": "05cd3f8a",
   "metadata": {},
   "outputs": [
    {
     "data": {
      "text/plain": [
       "Primary Practice County\n",
       "Alameda            26\n",
       "Alpine              1\n",
       "Amador              6\n",
       "Butte              16\n",
       "Calaveras           5\n",
       "Colusa              3\n",
       "Contra Costa       25\n",
       "Del Norte           2\n",
       "El Dorado          13\n",
       "Fresno             25\n",
       "Glenn               2\n",
       "Humboldt           11\n",
       "Imperial           17\n",
       "Inyo                1\n",
       "Kern               23\n",
       "Kings              17\n",
       "Lake               11\n",
       "Lassen              4\n",
       "Los Angeles        33\n",
       "Madera             16\n",
       "Marin              20\n",
       "Mariposa            1\n",
       "Mendocino           9\n",
       "Merced             22\n",
       "Modoc               1\n",
       "Mono                3\n",
       "Monterey           22\n",
       "Napa               20\n",
       "Nevada             12\n",
       "Orange             29\n",
       "Placer             24\n",
       "Plumas              3\n",
       "Riverside          29\n",
       "Sacramento         29\n",
       "San Benito          7\n",
       "San Bernardino     29\n",
       "San Diego          28\n",
       "San Francisco      28\n",
       "San Joaquin        24\n",
       "San Luis Obispo    19\n",
       "San Mateo          25\n",
       "Santa Barbara      22\n",
       "Santa Clara        27\n",
       "Santa Cruz         20\n",
       "Shasta             13\n",
       "Siskiyou            3\n",
       "Solano             20\n",
       "Sonoma             21\n",
       "Stanislaus         23\n",
       "Sutter             14\n",
       "Tehama              5\n",
       "Trinity             1\n",
       "Tulare             22\n",
       "Tuolumne            6\n",
       "Ventura            25\n",
       "Yolo               18\n",
       "Yuba               11\n",
       "dtype: int64"
      ]
     },
     "execution_count": 15,
     "metadata": {},
     "output_type": "execute_result"
    }
   ],
   "source": [
    "dataf_group"
   ]
  },
  {
   "cell_type": "code",
   "execution_count": 16,
   "id": "0a22093a",
   "metadata": {},
   "outputs": [
    {
     "data": {
      "text/plain": [
       "57"
      ]
     },
     "execution_count": 16,
     "metadata": {},
     "output_type": "execute_result"
    }
   ],
   "source": [
    "len(dataf_group)"
   ]
  },
  {
   "cell_type": "code",
   "execution_count": 18,
   "id": "dfd57e1b",
   "metadata": {},
   "outputs": [
    {
     "ename": "NameError",
     "evalue": "name 'df' is not defined",
     "output_type": "error",
     "traceback": [
      "\u001b[0;31m---------------------------------------------------------------------------\u001b[0m",
      "\u001b[0;31mNameError\u001b[0m                                 Traceback (most recent call last)",
      "\u001b[0;32m<ipython-input-18-6429dba53ec3>\u001b[0m in \u001b[0;36m<module>\u001b[0;34m\u001b[0m\n\u001b[0;32m----> 1\u001b[0;31m \u001b[0mdataf\u001b[0m\u001b[0;34m.\u001b[0m\u001b[0mloc\u001b[0m\u001b[0;34m[\u001b[0m\u001b[0;34m(\u001b[0m\u001b[0mdf\u001b[0m\u001b[0;34m[\u001b[0m\u001b[0;34m'Primary Practice County'\u001b[0m\u001b[0;34m]\u001b[0m\u001b[0;34m==\u001b[0m \u001b[0;34m'Alameda'\u001b[0m\u001b[0;34m)\u001b[0m\u001b[0;34m,\u001b[0m\u001b[0;34m[\u001b[0m\u001b[0;34m'Race/Ethnicity'\u001b[0m\u001b[0;34m,\u001b[0m\u001b[0;34m'Count of Licenses'\u001b[0m\u001b[0;34m]\u001b[0m\u001b[0;34m]\u001b[0m\u001b[0;34m.\u001b[0m\u001b[0mplot\u001b[0m\u001b[0;34m(\u001b[0m\u001b[0;34m)\u001b[0m\u001b[0;34m\u001b[0m\u001b[0;34m\u001b[0m\u001b[0m\n\u001b[0m",
      "\u001b[0;31mNameError\u001b[0m: name 'df' is not defined"
     ]
    }
   ],
   "source": [
    "dataf.loc[(df['Primary Practice County']== 'Alameda'),['Race/Ethnicity','Count of Licenses']].plot()"
   ]
  },
  {
   "cell_type": "code",
   "execution_count": null,
   "id": "c0123680",
   "metadata": {},
   "outputs": [],
   "source": []
  }
 ],
 "metadata": {
  "kernelspec": {
   "display_name": "Python 3",
   "language": "python",
   "name": "python3"
  },
  "language_info": {
   "codemirror_mode": {
    "name": "ipython",
    "version": 3
   },
   "file_extension": ".py",
   "mimetype": "text/x-python",
   "name": "python",
   "nbconvert_exporter": "python",
   "pygments_lexer": "ipython3",
   "version": "3.8.8"
  }
 },
 "nbformat": 4,
 "nbformat_minor": 5
}
